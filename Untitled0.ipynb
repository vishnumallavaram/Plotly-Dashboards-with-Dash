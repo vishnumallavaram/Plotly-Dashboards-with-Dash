{
  "nbformat": 4,
  "nbformat_minor": 0,
  "metadata": {
    "colab": {
      "name": "Untitled0.ipynb",
      "provenance": [],
      "authorship_tag": "ABX9TyMtCQVijOnv8MzgyFM5rRzT",
      "include_colab_link": true
    },
    "kernelspec": {
      "name": "python3",
      "display_name": "Python 3"
    },
    "language_info": {
      "name": "python"
    }
  },
  "cells": [
    {
      "cell_type": "markdown",
      "metadata": {
        "id": "view-in-github",
        "colab_type": "text"
      },
      "source": [
        "<a href=\"https://colab.research.google.com/github/vishnumallavaram/Plotly-Dashboards-with-Dash/blob/master/Untitled0.ipynb\" target=\"_parent\"><img src=\"https://colab.research.google.com/assets/colab-badge.svg\" alt=\"Open In Colab\"/></a>"
      ]
    },
    {
      "cell_type": "markdown",
      "metadata": {
        "id": "HQtNhlRpy278"
      },
      "source": [
        "#date types\n",
        "char, int,list,tuple\n",
        "\n",
        "fundamenta data types\n",
        "string,int,coplex,float,boolean,\n",
        "\n",
        "detrived data types\n",
        "list,set,tuple,dictonary,byte,byte array\n",
        "\n"
      ]
    },
    {
      "cell_type": "code",
      "metadata": {
        "colab": {
          "base_uri": "https://localhost:8080/"
        },
        "id": "E1McZoxUyjc1",
        "outputId": "2e88fd68-5aaa-42ca-b82f-915033d09cc3"
      },
      "source": [
        "#display string\n",
        "\n",
        "print('vishnu')     \n",
        "print(2+3)"
      ],
      "execution_count": 7,
      "outputs": [
        {
          "output_type": "stream",
          "text": [
            "vishnu\n",
            "5\n"
          ],
          "name": "stdout"
        }
      ]
    },
    {
      "cell_type": "code",
      "metadata": {
        "colab": {
          "base_uri": "https://localhost:8080/"
        },
        "id": "JARGqyYmzjXj",
        "outputId": "cf0f9a0a-e5d5-4b10-c06d-06e95b29b3e4"
      },
      "source": [
        "#variable\n",
        "\n",
        "a = ' helo vishnu'\n",
        "\n",
        "print(a)\n",
        "print(type(a))"
      ],
      "execution_count": 9,
      "outputs": [
        {
          "output_type": "stream",
          "text": [
            " helo vishnu\n",
            "<class 'str'>\n"
          ],
          "name": "stdout"
        }
      ]
    }
  ]
}